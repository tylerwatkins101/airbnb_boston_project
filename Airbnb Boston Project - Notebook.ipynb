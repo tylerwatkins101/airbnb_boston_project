{
 "cells": [
  {
   "cell_type": "markdown",
   "metadata": {},
   "source": [
    "# DSND Project 1 - Notebook"
   ]
  },
  {
   "cell_type": "markdown",
   "metadata": {},
   "source": [
    "### Import Libraries and Data"
   ]
  },
  {
   "cell_type": "code",
   "execution_count": 103,
   "metadata": {},
   "outputs": [],
   "source": [
    "# Standard libraries\n",
    "import numpy as np\n",
    "import pandas as pd\n",
    "import matplotlib.pyplot as plt\n",
    "import seaborn as sns\n",
    "sns.set_style(\"white\")\n",
    "from scipy import stats\n",
    "from scipy.stats import norm, skew\n",
    "%matplotlib inline\n",
    "\n",
    "# Sklearn utilities\n",
    "from sklearn.model_selection import train_test_split, KFold, cross_val_score\n",
    "from sklearn.preprocessing import StandardScaler, OneHotEncoder\n",
    "from sklearn.decomposition import PCA\n",
    "from sklearn.metrics import mean_squared_error\n",
    "\n",
    "# Models\n",
    "from sklearn.linear_model import Ridge\n",
    "from sklearn.ensemble import RandomForestRegressor, GradientBoostingRegressor\n",
    "from xgboost import XGBRegressor\n",
    "from xgboost import plot_importance\n",
    "\n",
    "import re\n",
    "\n",
    "import warnings\n",
    "warnings.filterwarnings('ignore')\n",
    "warnings.simplefilter('ignore')\n",
    "\n",
    "pd.set_option('display.float_format', lambda x: '{:.3f}'.format(x)) #Limiting floats output to 3 decimalpoints"
   ]
  },
  {
   "cell_type": "code",
   "execution_count": 104,
   "metadata": {},
   "outputs": [],
   "source": [
    "listings = pd.read_csv('listings.csv')"
   ]
  },
  {
   "cell_type": "markdown",
   "metadata": {},
   "source": [
    "### Data Cleaning"
   ]
  },
  {
   "cell_type": "code",
   "execution_count": 105,
   "metadata": {},
   "outputs": [],
   "source": [
    "listings_start = listings.copy()"
   ]
  },
  {
   "cell_type": "code",
   "execution_count": 106,
   "metadata": {},
   "outputs": [],
   "source": [
    "columns_to_start = ['host_is_superhost','host_listings_count', 'host_total_listings_count', 'neighbourhood_cleansed', \n",
    "                    'property_type', 'room_type', 'accommodates', 'bathrooms', 'bedrooms', \n",
    "                    'beds', 'bed_type', 'price', 'guests_included', 'minimum_nights', 'number_of_reviews', 'review_scores_rating', \n",
    "                    'review_scores_accuracy', 'review_scores_cleanliness', 'review_scores_checkin', 'review_scores_communication', \n",
    "                    'review_scores_location', 'review_scores_value', 'instant_bookable', 'cancellation_policy', \n",
    "                    'calculated_host_listings_count', 'reviews_per_month']\n",
    "\n",
    "# Immediately trim down to only columns that seem most useful\n",
    "listings_start = listings_start[columns_to_start]"
   ]
  },
  {
   "cell_type": "code",
   "execution_count": 107,
   "metadata": {},
   "outputs": [],
   "source": [
    "# Make price numerical\n",
    "listings_start['price'] = listings_start['price'].map(lambda x: str(x)[1:])\n",
    "listings_start['price'].replace(regex=True,inplace=True,to_replace=r',',value=r'')\n",
    "listings_start.price = pd.to_numeric(listings_start.price)"
   ]
  },
  {
   "cell_type": "code",
   "execution_count": 108,
   "metadata": {},
   "outputs": [],
   "source": [
    "# Make object variables categorical\n",
    "cols = ['host_is_superhost', 'neighbourhood_cleansed', 'property_type', 'room_type', 'bed_type', \n",
    "        'instant_bookable', 'cancellation_policy']\n",
    "for col in cols:\n",
    "    listings_start[col] = listings_start[col].astype('category')"
   ]
  },
  {
   "cell_type": "code",
   "execution_count": 109,
   "metadata": {},
   "outputs": [],
   "source": [
    "# Drop all rows without ratings (which are listings never used and not useful data points)\n",
    "listings_start = listings_start.dropna()"
   ]
  },
  {
   "cell_type": "code",
   "execution_count": 110,
   "metadata": {},
   "outputs": [],
   "source": [
    "# Rename neighbourhood\n",
    "listings_start.rename(columns={\"neighbourhood_cleansed\":\"neighbourhood\"}, inplace=True)"
   ]
  },
  {
   "cell_type": "code",
   "execution_count": 111,
   "metadata": {},
   "outputs": [],
   "source": [
    "# Make variable int\n",
    "listings_start.bedrooms = listings_start.bedrooms.astype(int)"
   ]
  },
  {
   "cell_type": "code",
   "execution_count": 112,
   "metadata": {},
   "outputs": [],
   "source": [
    "columns_price_ratings = ['price','number_of_reviews', 'review_scores_rating', 'reviews_per_month', 'review_scores_accuracy', \n",
    " 'review_scores_cleanliness', 'review_scores_checkin', 'review_scores_communication', 'review_scores_location', \n",
    " 'review_scores_value']\n",
    "\n",
    "# Make dataframe with price and ratings\n",
    "listings_price_ratings = listings_start[columns_price_ratings]\n",
    "\n",
    "# Make dataframe with only ratings\n",
    "listings_ratings = listings_price_ratings.drop(['price'], axis =1)"
   ]
  },
  {
   "cell_type": "markdown",
   "metadata": {},
   "source": [
    "### Data Exploration and Visualization"
   ]
  },
  {
   "cell_type": "code",
   "execution_count": 113,
   "metadata": {},
   "outputs": [
    {
     "data": {
      "text/html": [
       "<div>\n",
       "<style scoped>\n",
       "    .dataframe tbody tr th:only-of-type {\n",
       "        vertical-align: middle;\n",
       "    }\n",
       "\n",
       "    .dataframe tbody tr th {\n",
       "        vertical-align: top;\n",
       "    }\n",
       "\n",
       "    .dataframe thead th {\n",
       "        text-align: right;\n",
       "    }\n",
       "</style>\n",
       "<table border=\"1\" class=\"dataframe\">\n",
       "  <thead>\n",
       "    <tr style=\"text-align: right;\">\n",
       "      <th></th>\n",
       "      <th>price</th>\n",
       "      <th>accommodates</th>\n",
       "      <th>bedrooms</th>\n",
       "      <th>beds</th>\n",
       "      <th>bathrooms</th>\n",
       "      <th>guests_included</th>\n",
       "      <th>host_listings_count</th>\n",
       "      <th>host_total_listings_count</th>\n",
       "      <th>calculated_host_listings_count</th>\n",
       "      <th>review_scores_location</th>\n",
       "      <th>review_scores_cleanliness</th>\n",
       "      <th>review_scores_rating</th>\n",
       "      <th>review_scores_accuracy</th>\n",
       "      <th>review_scores_value</th>\n",
       "      <th>review_scores_communication</th>\n",
       "      <th>review_scores_checkin</th>\n",
       "      <th>minimum_nights</th>\n",
       "      <th>number_of_reviews</th>\n",
       "      <th>reviews_per_month</th>\n",
       "    </tr>\n",
       "  </thead>\n",
       "  <tbody>\n",
       "    <tr>\n",
       "      <th>price</th>\n",
       "      <td>1.000</td>\n",
       "      <td>0.593</td>\n",
       "      <td>0.546</td>\n",
       "      <td>0.518</td>\n",
       "      <td>0.336</td>\n",
       "      <td>0.310</td>\n",
       "      <td>0.237</td>\n",
       "      <td>0.237</td>\n",
       "      <td>0.222</td>\n",
       "      <td>0.193</td>\n",
       "      <td>0.143</td>\n",
       "      <td>0.106</td>\n",
       "      <td>0.040</td>\n",
       "      <td>0.012</td>\n",
       "      <td>0.005</td>\n",
       "      <td>-0.006</td>\n",
       "      <td>-0.022</td>\n",
       "      <td>-0.109</td>\n",
       "      <td>-0.159</td>\n",
       "    </tr>\n",
       "    <tr>\n",
       "      <th>accommodates</th>\n",
       "      <td>0.593</td>\n",
       "      <td>1.000</td>\n",
       "      <td>0.738</td>\n",
       "      <td>0.829</td>\n",
       "      <td>0.331</td>\n",
       "      <td>0.520</td>\n",
       "      <td>0.126</td>\n",
       "      <td>0.126</td>\n",
       "      <td>0.121</td>\n",
       "      <td>0.008</td>\n",
       "      <td>0.089</td>\n",
       "      <td>0.035</td>\n",
       "      <td>0.012</td>\n",
       "      <td>-0.010</td>\n",
       "      <td>-0.010</td>\n",
       "      <td>-0.015</td>\n",
       "      <td>-0.052</td>\n",
       "      <td>-0.007</td>\n",
       "      <td>0.004</td>\n",
       "    </tr>\n",
       "    <tr>\n",
       "      <th>bedrooms</th>\n",
       "      <td>0.546</td>\n",
       "      <td>0.738</td>\n",
       "      <td>1.000</td>\n",
       "      <td>0.710</td>\n",
       "      <td>0.425</td>\n",
       "      <td>0.424</td>\n",
       "      <td>0.124</td>\n",
       "      <td>0.124</td>\n",
       "      <td>0.081</td>\n",
       "      <td>-0.048</td>\n",
       "      <td>0.074</td>\n",
       "      <td>0.054</td>\n",
       "      <td>0.023</td>\n",
       "      <td>0.023</td>\n",
       "      <td>0.015</td>\n",
       "      <td>0.010</td>\n",
       "      <td>-0.019</td>\n",
       "      <td>-0.045</td>\n",
       "      <td>-0.064</td>\n",
       "    </tr>\n",
       "    <tr>\n",
       "      <th>beds</th>\n",
       "      <td>0.518</td>\n",
       "      <td>0.829</td>\n",
       "      <td>0.710</td>\n",
       "      <td>1.000</td>\n",
       "      <td>0.344</td>\n",
       "      <td>0.491</td>\n",
       "      <td>0.051</td>\n",
       "      <td>0.051</td>\n",
       "      <td>0.036</td>\n",
       "      <td>-0.014</td>\n",
       "      <td>0.063</td>\n",
       "      <td>0.033</td>\n",
       "      <td>0.008</td>\n",
       "      <td>-0.003</td>\n",
       "      <td>0.006</td>\n",
       "      <td>-0.002</td>\n",
       "      <td>-0.029</td>\n",
       "      <td>-0.019</td>\n",
       "      <td>-0.006</td>\n",
       "    </tr>\n",
       "    <tr>\n",
       "      <th>bathrooms</th>\n",
       "      <td>0.336</td>\n",
       "      <td>0.331</td>\n",
       "      <td>0.425</td>\n",
       "      <td>0.344</td>\n",
       "      <td>1.000</td>\n",
       "      <td>0.121</td>\n",
       "      <td>0.133</td>\n",
       "      <td>0.133</td>\n",
       "      <td>0.133</td>\n",
       "      <td>-0.028</td>\n",
       "      <td>0.026</td>\n",
       "      <td>0.002</td>\n",
       "      <td>-0.019</td>\n",
       "      <td>-0.014</td>\n",
       "      <td>-0.047</td>\n",
       "      <td>-0.053</td>\n",
       "      <td>0.009</td>\n",
       "      <td>-0.024</td>\n",
       "      <td>-0.051</td>\n",
       "    </tr>\n",
       "    <tr>\n",
       "      <th>guests_included</th>\n",
       "      <td>0.310</td>\n",
       "      <td>0.520</td>\n",
       "      <td>0.424</td>\n",
       "      <td>0.491</td>\n",
       "      <td>0.121</td>\n",
       "      <td>1.000</td>\n",
       "      <td>-0.089</td>\n",
       "      <td>-0.089</td>\n",
       "      <td>-0.093</td>\n",
       "      <td>0.009</td>\n",
       "      <td>0.048</td>\n",
       "      <td>0.047</td>\n",
       "      <td>0.056</td>\n",
       "      <td>0.015</td>\n",
       "      <td>0.068</td>\n",
       "      <td>0.016</td>\n",
       "      <td>-0.024</td>\n",
       "      <td>0.043</td>\n",
       "      <td>0.043</td>\n",
       "    </tr>\n",
       "    <tr>\n",
       "      <th>host_listings_count</th>\n",
       "      <td>0.237</td>\n",
       "      <td>0.126</td>\n",
       "      <td>0.124</td>\n",
       "      <td>0.051</td>\n",
       "      <td>0.133</td>\n",
       "      <td>-0.089</td>\n",
       "      <td>1.000</td>\n",
       "      <td>1.000</td>\n",
       "      <td>0.959</td>\n",
       "      <td>0.013</td>\n",
       "      <td>-0.025</td>\n",
       "      <td>-0.128</td>\n",
       "      <td>-0.180</td>\n",
       "      <td>-0.203</td>\n",
       "      <td>-0.243</td>\n",
       "      <td>-0.222</td>\n",
       "      <td>0.036</td>\n",
       "      <td>-0.131</td>\n",
       "      <td>-0.192</td>\n",
       "    </tr>\n",
       "    <tr>\n",
       "      <th>host_total_listings_count</th>\n",
       "      <td>0.237</td>\n",
       "      <td>0.126</td>\n",
       "      <td>0.124</td>\n",
       "      <td>0.051</td>\n",
       "      <td>0.133</td>\n",
       "      <td>-0.089</td>\n",
       "      <td>1.000</td>\n",
       "      <td>1.000</td>\n",
       "      <td>0.959</td>\n",
       "      <td>0.013</td>\n",
       "      <td>-0.025</td>\n",
       "      <td>-0.128</td>\n",
       "      <td>-0.180</td>\n",
       "      <td>-0.203</td>\n",
       "      <td>-0.243</td>\n",
       "      <td>-0.222</td>\n",
       "      <td>0.036</td>\n",
       "      <td>-0.131</td>\n",
       "      <td>-0.192</td>\n",
       "    </tr>\n",
       "    <tr>\n",
       "      <th>calculated_host_listings_count</th>\n",
       "      <td>0.222</td>\n",
       "      <td>0.121</td>\n",
       "      <td>0.081</td>\n",
       "      <td>0.036</td>\n",
       "      <td>0.133</td>\n",
       "      <td>-0.093</td>\n",
       "      <td>0.959</td>\n",
       "      <td>0.959</td>\n",
       "      <td>1.000</td>\n",
       "      <td>0.003</td>\n",
       "      <td>-0.028</td>\n",
       "      <td>-0.145</td>\n",
       "      <td>-0.194</td>\n",
       "      <td>-0.223</td>\n",
       "      <td>-0.265</td>\n",
       "      <td>-0.232</td>\n",
       "      <td>0.047</td>\n",
       "      <td>-0.133</td>\n",
       "      <td>-0.199</td>\n",
       "    </tr>\n",
       "    <tr>\n",
       "      <th>review_scores_location</th>\n",
       "      <td>0.193</td>\n",
       "      <td>0.008</td>\n",
       "      <td>-0.048</td>\n",
       "      <td>-0.014</td>\n",
       "      <td>-0.028</td>\n",
       "      <td>0.009</td>\n",
       "      <td>0.013</td>\n",
       "      <td>0.013</td>\n",
       "      <td>0.003</td>\n",
       "      <td>1.000</td>\n",
       "      <td>0.346</td>\n",
       "      <td>0.455</td>\n",
       "      <td>0.320</td>\n",
       "      <td>0.437</td>\n",
       "      <td>0.282</td>\n",
       "      <td>0.275</td>\n",
       "      <td>-0.030</td>\n",
       "      <td>-0.041</td>\n",
       "      <td>0.010</td>\n",
       "    </tr>\n",
       "    <tr>\n",
       "      <th>review_scores_cleanliness</th>\n",
       "      <td>0.143</td>\n",
       "      <td>0.089</td>\n",
       "      <td>0.074</td>\n",
       "      <td>0.063</td>\n",
       "      <td>0.026</td>\n",
       "      <td>0.048</td>\n",
       "      <td>-0.025</td>\n",
       "      <td>-0.025</td>\n",
       "      <td>-0.028</td>\n",
       "      <td>0.346</td>\n",
       "      <td>1.000</td>\n",
       "      <td>0.754</td>\n",
       "      <td>0.641</td>\n",
       "      <td>0.655</td>\n",
       "      <td>0.430</td>\n",
       "      <td>0.459</td>\n",
       "      <td>-0.026</td>\n",
       "      <td>0.036</td>\n",
       "      <td>0.112</td>\n",
       "    </tr>\n",
       "    <tr>\n",
       "      <th>review_scores_rating</th>\n",
       "      <td>0.106</td>\n",
       "      <td>0.035</td>\n",
       "      <td>0.054</td>\n",
       "      <td>0.033</td>\n",
       "      <td>0.002</td>\n",
       "      <td>0.047</td>\n",
       "      <td>-0.128</td>\n",
       "      <td>-0.128</td>\n",
       "      <td>-0.145</td>\n",
       "      <td>0.455</td>\n",
       "      <td>0.754</td>\n",
       "      <td>1.000</td>\n",
       "      <td>0.702</td>\n",
       "      <td>0.786</td>\n",
       "      <td>0.602</td>\n",
       "      <td>0.582</td>\n",
       "      <td>-0.031</td>\n",
       "      <td>0.024</td>\n",
       "      <td>0.081</td>\n",
       "    </tr>\n",
       "    <tr>\n",
       "      <th>review_scores_accuracy</th>\n",
       "      <td>0.040</td>\n",
       "      <td>0.012</td>\n",
       "      <td>0.023</td>\n",
       "      <td>0.008</td>\n",
       "      <td>-0.019</td>\n",
       "      <td>0.056</td>\n",
       "      <td>-0.180</td>\n",
       "      <td>-0.180</td>\n",
       "      <td>-0.194</td>\n",
       "      <td>0.320</td>\n",
       "      <td>0.641</td>\n",
       "      <td>0.702</td>\n",
       "      <td>1.000</td>\n",
       "      <td>0.665</td>\n",
       "      <td>0.494</td>\n",
       "      <td>0.466</td>\n",
       "      <td>-0.028</td>\n",
       "      <td>0.031</td>\n",
       "      <td>0.113</td>\n",
       "    </tr>\n",
       "    <tr>\n",
       "      <th>review_scores_value</th>\n",
       "      <td>0.012</td>\n",
       "      <td>-0.010</td>\n",
       "      <td>0.023</td>\n",
       "      <td>-0.003</td>\n",
       "      <td>-0.014</td>\n",
       "      <td>0.015</td>\n",
       "      <td>-0.203</td>\n",
       "      <td>-0.203</td>\n",
       "      <td>-0.223</td>\n",
       "      <td>0.437</td>\n",
       "      <td>0.655</td>\n",
       "      <td>0.786</td>\n",
       "      <td>0.665</td>\n",
       "      <td>1.000</td>\n",
       "      <td>0.525</td>\n",
       "      <td>0.495</td>\n",
       "      <td>-0.022</td>\n",
       "      <td>0.042</td>\n",
       "      <td>0.127</td>\n",
       "    </tr>\n",
       "    <tr>\n",
       "      <th>review_scores_communication</th>\n",
       "      <td>0.005</td>\n",
       "      <td>-0.010</td>\n",
       "      <td>0.015</td>\n",
       "      <td>0.006</td>\n",
       "      <td>-0.047</td>\n",
       "      <td>0.068</td>\n",
       "      <td>-0.243</td>\n",
       "      <td>-0.243</td>\n",
       "      <td>-0.265</td>\n",
       "      <td>0.282</td>\n",
       "      <td>0.430</td>\n",
       "      <td>0.602</td>\n",
       "      <td>0.494</td>\n",
       "      <td>0.525</td>\n",
       "      <td>1.000</td>\n",
       "      <td>0.677</td>\n",
       "      <td>-0.028</td>\n",
       "      <td>0.054</td>\n",
       "      <td>0.099</td>\n",
       "    </tr>\n",
       "    <tr>\n",
       "      <th>review_scores_checkin</th>\n",
       "      <td>-0.006</td>\n",
       "      <td>-0.015</td>\n",
       "      <td>0.010</td>\n",
       "      <td>-0.002</td>\n",
       "      <td>-0.053</td>\n",
       "      <td>0.016</td>\n",
       "      <td>-0.222</td>\n",
       "      <td>-0.222</td>\n",
       "      <td>-0.232</td>\n",
       "      <td>0.275</td>\n",
       "      <td>0.459</td>\n",
       "      <td>0.582</td>\n",
       "      <td>0.466</td>\n",
       "      <td>0.495</td>\n",
       "      <td>0.677</td>\n",
       "      <td>1.000</td>\n",
       "      <td>-0.047</td>\n",
       "      <td>0.052</td>\n",
       "      <td>0.109</td>\n",
       "    </tr>\n",
       "    <tr>\n",
       "      <th>minimum_nights</th>\n",
       "      <td>-0.022</td>\n",
       "      <td>-0.052</td>\n",
       "      <td>-0.019</td>\n",
       "      <td>-0.029</td>\n",
       "      <td>0.009</td>\n",
       "      <td>-0.024</td>\n",
       "      <td>0.036</td>\n",
       "      <td>0.036</td>\n",
       "      <td>0.047</td>\n",
       "      <td>-0.030</td>\n",
       "      <td>-0.026</td>\n",
       "      <td>-0.031</td>\n",
       "      <td>-0.028</td>\n",
       "      <td>-0.022</td>\n",
       "      <td>-0.028</td>\n",
       "      <td>-0.047</td>\n",
       "      <td>1.000</td>\n",
       "      <td>-0.062</td>\n",
       "      <td>-0.107</td>\n",
       "    </tr>\n",
       "    <tr>\n",
       "      <th>number_of_reviews</th>\n",
       "      <td>-0.109</td>\n",
       "      <td>-0.007</td>\n",
       "      <td>-0.045</td>\n",
       "      <td>-0.019</td>\n",
       "      <td>-0.024</td>\n",
       "      <td>0.043</td>\n",
       "      <td>-0.131</td>\n",
       "      <td>-0.131</td>\n",
       "      <td>-0.133</td>\n",
       "      <td>-0.041</td>\n",
       "      <td>0.036</td>\n",
       "      <td>0.024</td>\n",
       "      <td>0.031</td>\n",
       "      <td>0.042</td>\n",
       "      <td>0.054</td>\n",
       "      <td>0.052</td>\n",
       "      <td>-0.062</td>\n",
       "      <td>1.000</td>\n",
       "      <td>0.501</td>\n",
       "    </tr>\n",
       "    <tr>\n",
       "      <th>reviews_per_month</th>\n",
       "      <td>-0.159</td>\n",
       "      <td>0.004</td>\n",
       "      <td>-0.064</td>\n",
       "      <td>-0.006</td>\n",
       "      <td>-0.051</td>\n",
       "      <td>0.043</td>\n",
       "      <td>-0.192</td>\n",
       "      <td>-0.192</td>\n",
       "      <td>-0.199</td>\n",
       "      <td>0.010</td>\n",
       "      <td>0.112</td>\n",
       "      <td>0.081</td>\n",
       "      <td>0.113</td>\n",
       "      <td>0.127</td>\n",
       "      <td>0.099</td>\n",
       "      <td>0.109</td>\n",
       "      <td>-0.107</td>\n",
       "      <td>0.501</td>\n",
       "      <td>1.000</td>\n",
       "    </tr>\n",
       "  </tbody>\n",
       "</table>\n",
       "</div>"
      ],
      "text/plain": [
       "                                price  accommodates  bedrooms   beds  \\\n",
       "price                           1.000         0.593     0.546  0.518   \n",
       "accommodates                    0.593         1.000     0.738  0.829   \n",
       "bedrooms                        0.546         0.738     1.000  0.710   \n",
       "beds                            0.518         0.829     0.710  1.000   \n",
       "bathrooms                       0.336         0.331     0.425  0.344   \n",
       "guests_included                 0.310         0.520     0.424  0.491   \n",
       "host_listings_count             0.237         0.126     0.124  0.051   \n",
       "host_total_listings_count       0.237         0.126     0.124  0.051   \n",
       "calculated_host_listings_count  0.222         0.121     0.081  0.036   \n",
       "review_scores_location          0.193         0.008    -0.048 -0.014   \n",
       "review_scores_cleanliness       0.143         0.089     0.074  0.063   \n",
       "review_scores_rating            0.106         0.035     0.054  0.033   \n",
       "review_scores_accuracy          0.040         0.012     0.023  0.008   \n",
       "review_scores_value             0.012        -0.010     0.023 -0.003   \n",
       "review_scores_communication     0.005        -0.010     0.015  0.006   \n",
       "review_scores_checkin          -0.006        -0.015     0.010 -0.002   \n",
       "minimum_nights                 -0.022        -0.052    -0.019 -0.029   \n",
       "number_of_reviews              -0.109        -0.007    -0.045 -0.019   \n",
       "reviews_per_month              -0.159         0.004    -0.064 -0.006   \n",
       "\n",
       "                                bathrooms  guests_included  \\\n",
       "price                               0.336            0.310   \n",
       "accommodates                        0.331            0.520   \n",
       "bedrooms                            0.425            0.424   \n",
       "beds                                0.344            0.491   \n",
       "bathrooms                           1.000            0.121   \n",
       "guests_included                     0.121            1.000   \n",
       "host_listings_count                 0.133           -0.089   \n",
       "host_total_listings_count           0.133           -0.089   \n",
       "calculated_host_listings_count      0.133           -0.093   \n",
       "review_scores_location             -0.028            0.009   \n",
       "review_scores_cleanliness           0.026            0.048   \n",
       "review_scores_rating                0.002            0.047   \n",
       "review_scores_accuracy             -0.019            0.056   \n",
       "review_scores_value                -0.014            0.015   \n",
       "review_scores_communication        -0.047            0.068   \n",
       "review_scores_checkin              -0.053            0.016   \n",
       "minimum_nights                      0.009           -0.024   \n",
       "number_of_reviews                  -0.024            0.043   \n",
       "reviews_per_month                  -0.051            0.043   \n",
       "\n",
       "                                host_listings_count  \\\n",
       "price                                         0.237   \n",
       "accommodates                                  0.126   \n",
       "bedrooms                                      0.124   \n",
       "beds                                          0.051   \n",
       "bathrooms                                     0.133   \n",
       "guests_included                              -0.089   \n",
       "host_listings_count                           1.000   \n",
       "host_total_listings_count                     1.000   \n",
       "calculated_host_listings_count                0.959   \n",
       "review_scores_location                        0.013   \n",
       "review_scores_cleanliness                    -0.025   \n",
       "review_scores_rating                         -0.128   \n",
       "review_scores_accuracy                       -0.180   \n",
       "review_scores_value                          -0.203   \n",
       "review_scores_communication                  -0.243   \n",
       "review_scores_checkin                        -0.222   \n",
       "minimum_nights                                0.036   \n",
       "number_of_reviews                            -0.131   \n",
       "reviews_per_month                            -0.192   \n",
       "\n",
       "                                host_total_listings_count  \\\n",
       "price                                               0.237   \n",
       "accommodates                                        0.126   \n",
       "bedrooms                                            0.124   \n",
       "beds                                                0.051   \n",
       "bathrooms                                           0.133   \n",
       "guests_included                                    -0.089   \n",
       "host_listings_count                                 1.000   \n",
       "host_total_listings_count                           1.000   \n",
       "calculated_host_listings_count                      0.959   \n",
       "review_scores_location                              0.013   \n",
       "review_scores_cleanliness                          -0.025   \n",
       "review_scores_rating                               -0.128   \n",
       "review_scores_accuracy                             -0.180   \n",
       "review_scores_value                                -0.203   \n",
       "review_scores_communication                        -0.243   \n",
       "review_scores_checkin                              -0.222   \n",
       "minimum_nights                                      0.036   \n",
       "number_of_reviews                                  -0.131   \n",
       "reviews_per_month                                  -0.192   \n",
       "\n",
       "                                calculated_host_listings_count  \\\n",
       "price                                                    0.222   \n",
       "accommodates                                             0.121   \n",
       "bedrooms                                                 0.081   \n",
       "beds                                                     0.036   \n",
       "bathrooms                                                0.133   \n",
       "guests_included                                         -0.093   \n",
       "host_listings_count                                      0.959   \n",
       "host_total_listings_count                                0.959   \n",
       "calculated_host_listings_count                           1.000   \n",
       "review_scores_location                                   0.003   \n",
       "review_scores_cleanliness                               -0.028   \n",
       "review_scores_rating                                    -0.145   \n",
       "review_scores_accuracy                                  -0.194   \n",
       "review_scores_value                                     -0.223   \n",
       "review_scores_communication                             -0.265   \n",
       "review_scores_checkin                                   -0.232   \n",
       "minimum_nights                                           0.047   \n",
       "number_of_reviews                                       -0.133   \n",
       "reviews_per_month                                       -0.199   \n",
       "\n",
       "                                review_scores_location  \\\n",
       "price                                            0.193   \n",
       "accommodates                                     0.008   \n",
       "bedrooms                                        -0.048   \n",
       "beds                                            -0.014   \n",
       "bathrooms                                       -0.028   \n",
       "guests_included                                  0.009   \n",
       "host_listings_count                              0.013   \n",
       "host_total_listings_count                        0.013   \n",
       "calculated_host_listings_count                   0.003   \n",
       "review_scores_location                           1.000   \n",
       "review_scores_cleanliness                        0.346   \n",
       "review_scores_rating                             0.455   \n",
       "review_scores_accuracy                           0.320   \n",
       "review_scores_value                              0.437   \n",
       "review_scores_communication                      0.282   \n",
       "review_scores_checkin                            0.275   \n",
       "minimum_nights                                  -0.030   \n",
       "number_of_reviews                               -0.041   \n",
       "reviews_per_month                                0.010   \n",
       "\n",
       "                                review_scores_cleanliness  \\\n",
       "price                                               0.143   \n",
       "accommodates                                        0.089   \n",
       "bedrooms                                            0.074   \n",
       "beds                                                0.063   \n",
       "bathrooms                                           0.026   \n",
       "guests_included                                     0.048   \n",
       "host_listings_count                                -0.025   \n",
       "host_total_listings_count                          -0.025   \n",
       "calculated_host_listings_count                     -0.028   \n",
       "review_scores_location                              0.346   \n",
       "review_scores_cleanliness                           1.000   \n",
       "review_scores_rating                                0.754   \n",
       "review_scores_accuracy                              0.641   \n",
       "review_scores_value                                 0.655   \n",
       "review_scores_communication                         0.430   \n",
       "review_scores_checkin                               0.459   \n",
       "minimum_nights                                     -0.026   \n",
       "number_of_reviews                                   0.036   \n",
       "reviews_per_month                                   0.112   \n",
       "\n",
       "                                review_scores_rating  review_scores_accuracy  \\\n",
       "price                                          0.106                   0.040   \n",
       "accommodates                                   0.035                   0.012   \n",
       "bedrooms                                       0.054                   0.023   \n",
       "beds                                           0.033                   0.008   \n",
       "bathrooms                                      0.002                  -0.019   \n",
       "guests_included                                0.047                   0.056   \n",
       "host_listings_count                           -0.128                  -0.180   \n",
       "host_total_listings_count                     -0.128                  -0.180   \n",
       "calculated_host_listings_count                -0.145                  -0.194   \n",
       "review_scores_location                         0.455                   0.320   \n",
       "review_scores_cleanliness                      0.754                   0.641   \n",
       "review_scores_rating                           1.000                   0.702   \n",
       "review_scores_accuracy                         0.702                   1.000   \n",
       "review_scores_value                            0.786                   0.665   \n",
       "review_scores_communication                    0.602                   0.494   \n",
       "review_scores_checkin                          0.582                   0.466   \n",
       "minimum_nights                                -0.031                  -0.028   \n",
       "number_of_reviews                              0.024                   0.031   \n",
       "reviews_per_month                              0.081                   0.113   \n",
       "\n",
       "                                review_scores_value  \\\n",
       "price                                         0.012   \n",
       "accommodates                                 -0.010   \n",
       "bedrooms                                      0.023   \n",
       "beds                                         -0.003   \n",
       "bathrooms                                    -0.014   \n",
       "guests_included                               0.015   \n",
       "host_listings_count                          -0.203   \n",
       "host_total_listings_count                    -0.203   \n",
       "calculated_host_listings_count               -0.223   \n",
       "review_scores_location                        0.437   \n",
       "review_scores_cleanliness                     0.655   \n",
       "review_scores_rating                          0.786   \n",
       "review_scores_accuracy                        0.665   \n",
       "review_scores_value                           1.000   \n",
       "review_scores_communication                   0.525   \n",
       "review_scores_checkin                         0.495   \n",
       "minimum_nights                               -0.022   \n",
       "number_of_reviews                             0.042   \n",
       "reviews_per_month                             0.127   \n",
       "\n",
       "                                review_scores_communication  \\\n",
       "price                                                 0.005   \n",
       "accommodates                                         -0.010   \n",
       "bedrooms                                              0.015   \n",
       "beds                                                  0.006   \n",
       "bathrooms                                            -0.047   \n",
       "guests_included                                       0.068   \n",
       "host_listings_count                                  -0.243   \n",
       "host_total_listings_count                            -0.243   \n",
       "calculated_host_listings_count                       -0.265   \n",
       "review_scores_location                                0.282   \n",
       "review_scores_cleanliness                             0.430   \n",
       "review_scores_rating                                  0.602   \n",
       "review_scores_accuracy                                0.494   \n",
       "review_scores_value                                   0.525   \n",
       "review_scores_communication                           1.000   \n",
       "review_scores_checkin                                 0.677   \n",
       "minimum_nights                                       -0.028   \n",
       "number_of_reviews                                     0.054   \n",
       "reviews_per_month                                     0.099   \n",
       "\n",
       "                                review_scores_checkin  minimum_nights  \\\n",
       "price                                          -0.006          -0.022   \n",
       "accommodates                                   -0.015          -0.052   \n",
       "bedrooms                                        0.010          -0.019   \n",
       "beds                                           -0.002          -0.029   \n",
       "bathrooms                                      -0.053           0.009   \n",
       "guests_included                                 0.016          -0.024   \n",
       "host_listings_count                            -0.222           0.036   \n",
       "host_total_listings_count                      -0.222           0.036   \n",
       "calculated_host_listings_count                 -0.232           0.047   \n",
       "review_scores_location                          0.275          -0.030   \n",
       "review_scores_cleanliness                       0.459          -0.026   \n",
       "review_scores_rating                            0.582          -0.031   \n",
       "review_scores_accuracy                          0.466          -0.028   \n",
       "review_scores_value                             0.495          -0.022   \n",
       "review_scores_communication                     0.677          -0.028   \n",
       "review_scores_checkin                           1.000          -0.047   \n",
       "minimum_nights                                 -0.047           1.000   \n",
       "number_of_reviews                               0.052          -0.062   \n",
       "reviews_per_month                               0.109          -0.107   \n",
       "\n",
       "                                number_of_reviews  reviews_per_month  \n",
       "price                                      -0.109             -0.159  \n",
       "accommodates                               -0.007              0.004  \n",
       "bedrooms                                   -0.045             -0.064  \n",
       "beds                                       -0.019             -0.006  \n",
       "bathrooms                                  -0.024             -0.051  \n",
       "guests_included                             0.043              0.043  \n",
       "host_listings_count                        -0.131             -0.192  \n",
       "host_total_listings_count                  -0.131             -0.192  \n",
       "calculated_host_listings_count             -0.133             -0.199  \n",
       "review_scores_location                     -0.041              0.010  \n",
       "review_scores_cleanliness                   0.036              0.112  \n",
       "review_scores_rating                        0.024              0.081  \n",
       "review_scores_accuracy                      0.031              0.113  \n",
       "review_scores_value                         0.042              0.127  \n",
       "review_scores_communication                 0.054              0.099  \n",
       "review_scores_checkin                       0.052              0.109  \n",
       "minimum_nights                             -0.062             -0.107  \n",
       "number_of_reviews                           1.000              0.501  \n",
       "reviews_per_month                           0.501              1.000  "
      ]
     },
     "execution_count": 113,
     "metadata": {},
     "output_type": "execute_result"
    }
   ],
   "source": [
    "# Look at correlation matrix for price with numerical values\n",
    "listing_cor = listings_start.corr()[['price']]\n",
    "best_predictors = list(listing_cor.sort_values(['price'], ascending = False).index)\n",
    "corrmat = listings_start[best_predictors].corr()\n",
    "corrmat"
   ]
  },
  {
   "cell_type": "markdown",
   "metadata": {},
   "source": [
    "#### Question 1: How much can I make?"
   ]
  },
  {
   "cell_type": "code",
   "execution_count": 114,
   "metadata": {},
   "outputs": [
    {
     "data": {
      "text/plain": [
       "<matplotlib.axes._subplots.AxesSubplot at 0x1dcd148d518>"
      ]
     },
     "execution_count": 114,
     "metadata": {},
     "output_type": "execute_result"
    },
    {
     "data": {
      "image/png": "[encoded data removed]",
      "text/plain": [
       "<Figure size 432x288 with 1 Axes>"
      ]
     },
     "metadata": {
      "needs_background": "light"
     },
     "output_type": "display_data"
    }
   ],
   "source": [
    "# Price is lognormal\n",
    "np.log(listings_start.price).hist(bins=20)"
   ]
  },
  {
   "cell_type": "code",
   "execution_count": 115,
   "metadata": {},
   "outputs": [
    {
     "data": {
      "text/html": [
       "<div>\n",
       "<style scoped>\n",
       "    .dataframe tbody tr th:only-of-type {\n",
       "        vertical-align: middle;\n",
       "    }\n",
       "\n",
       "    .dataframe tbody tr th {\n",
       "        vertical-align: top;\n",
       "    }\n",
       "\n",
       "    .dataframe thead th {\n",
       "        text-align: right;\n",
       "    }\n",
       "</style>\n",
       "<table border=\"1\" class=\"dataframe\">\n",
       "  <thead>\n",
       "    <tr style=\"text-align: right;\">\n",
       "      <th></th>\n",
       "      <th>count</th>\n",
       "      <th>mean</th>\n",
       "      <th>min</th>\n",
       "      <th>max</th>\n",
       "    </tr>\n",
       "    <tr>\n",
       "      <th>room_type</th>\n",
       "      <th></th>\n",
       "      <th></th>\n",
       "      <th></th>\n",
       "      <th></th>\n",
       "    </tr>\n",
       "  </thead>\n",
       "  <tbody>\n",
       "    <tr>\n",
       "      <th>Entire home/apt</th>\n",
       "      <td>1622.000</td>\n",
       "      <td>220.403</td>\n",
       "      <td>11.000</td>\n",
       "      <td>1300.000</td>\n",
       "    </tr>\n",
       "    <tr>\n",
       "      <th>Private room</th>\n",
       "      <td>1059.000</td>\n",
       "      <td>89.163</td>\n",
       "      <td>20.000</td>\n",
       "      <td>499.000</td>\n",
       "    </tr>\n",
       "    <tr>\n",
       "      <th>Shared room</th>\n",
       "      <td>53.000</td>\n",
       "      <td>78.019</td>\n",
       "      <td>22.000</td>\n",
       "      <td>500.000</td>\n",
       "    </tr>\n",
       "  </tbody>\n",
       "</table>\n",
       "</div>"
      ],
      "text/plain": [
       "                   count    mean    min      max\n",
       "room_type                                       \n",
       "Entire home/apt 1622.000 220.403 11.000 1300.000\n",
       "Private room    1059.000  89.163 20.000  499.000\n",
       "Shared room       53.000  78.019 22.000  500.000"
      ]
     },
     "execution_count": 115,
     "metadata": {},
     "output_type": "execute_result"
    }
   ],
   "source": [
    "# Statistics by room_type\n",
    "room_type = listings_start.groupby('room_type').price.describe().iloc[:,[0,1,3,7]]\n",
    "room_type"
   ]
  },
  {
   "cell_type": "code",
   "execution_count": 116,
   "metadata": {},
   "outputs": [
    {
     "data": {
      "text/plain": [
       "<matplotlib.axes._subplots.AxesSubplot at 0x1dcd0d91390>"
      ]
     },
     "execution_count": 116,
     "metadata": {},
     "output_type": "execute_result"
    },
    {
     "data": {
      "image/png": "[encoded data removed]",
      "text/plain": [
       "<Figure size 432x288 with 1 Axes>"
      ]
     },
     "metadata": {
      "needs_background": "light"
     },
     "output_type": "display_data"
    }
   ],
   "source": [
    "sns.boxplot(y = 'price', x = 'room_type', data = listings_start)"
   ]
  },
  {
   "cell_type": "code",
   "execution_count": 117,
   "metadata": {},
   "outputs": [
    {
     "data": {
      "text/html": [
       "<div>\n",
       "<style scoped>\n",
       "    .dataframe tbody tr th:only-of-type {\n",
       "        vertical-align: middle;\n",
       "    }\n",
       "\n",
       "    .dataframe tbody tr th {\n",
       "        vertical-align: top;\n",
       "    }\n",
       "\n",
       "    .dataframe thead th {\n",
       "        text-align: right;\n",
       "    }\n",
       "</style>\n",
       "<table border=\"1\" class=\"dataframe\">\n",
       "  <thead>\n",
       "    <tr style=\"text-align: right;\">\n",
       "      <th></th>\n",
       "      <th>count</th>\n",
       "      <th>mean</th>\n",
       "      <th>min</th>\n",
       "      <th>max</th>\n",
       "    </tr>\n",
       "    <tr>\n",
       "      <th>bedrooms</th>\n",
       "      <th></th>\n",
       "      <th></th>\n",
       "      <th></th>\n",
       "      <th></th>\n",
       "    </tr>\n",
       "  </thead>\n",
       "  <tbody>\n",
       "    <tr>\n",
       "      <th>0</th>\n",
       "      <td>233.000</td>\n",
       "      <td>149.790</td>\n",
       "      <td>55.000</td>\n",
       "      <td>269.000</td>\n",
       "    </tr>\n",
       "    <tr>\n",
       "      <th>1</th>\n",
       "      <td>1817.000</td>\n",
       "      <td>126.906</td>\n",
       "      <td>11.000</td>\n",
       "      <td>699.000</td>\n",
       "    </tr>\n",
       "    <tr>\n",
       "      <th>2</th>\n",
       "      <td>506.000</td>\n",
       "      <td>253.957</td>\n",
       "      <td>65.000</td>\n",
       "      <td>700.000</td>\n",
       "    </tr>\n",
       "    <tr>\n",
       "      <th>3</th>\n",
       "      <td>126.000</td>\n",
       "      <td>315.603</td>\n",
       "      <td>84.000</td>\n",
       "      <td>1250.000</td>\n",
       "    </tr>\n",
       "    <tr>\n",
       "      <th>4</th>\n",
       "      <td>40.000</td>\n",
       "      <td>411.100</td>\n",
       "      <td>150.000</td>\n",
       "      <td>750.000</td>\n",
       "    </tr>\n",
       "    <tr>\n",
       "      <th>5</th>\n",
       "      <td>12.000</td>\n",
       "      <td>487.583</td>\n",
       "      <td>225.000</td>\n",
       "      <td>1300.000</td>\n",
       "    </tr>\n",
       "  </tbody>\n",
       "</table>\n",
       "</div>"
      ],
      "text/plain": [
       "            count    mean     min      max\n",
       "bedrooms                                  \n",
       "0         233.000 149.790  55.000  269.000\n",
       "1        1817.000 126.906  11.000  699.000\n",
       "2         506.000 253.957  65.000  700.000\n",
       "3         126.000 315.603  84.000 1250.000\n",
       "4          40.000 411.100 150.000  750.000\n",
       "5          12.000 487.583 225.000 1300.000"
      ]
     },
     "execution_count": 117,
     "metadata": {},
     "output_type": "execute_result"
    }
   ],
   "source": [
    "# Statistics by bedrooms\n",
    "bedrooms = listings_start.groupby('bedrooms').price.describe().iloc[:,[0,1,3,7]]\n",
    "bedrooms"
   ]
  },
  {
   "cell_type": "code",
   "execution_count": 118,
   "metadata": {},
   "outputs": [
    {
     "data": {
      "text/plain": [
       "<matplotlib.axes._subplots.AxesSubplot at 0x1dcd4afe0b8>"
      ]
     },
     "execution_count": 118,
     "metadata": {},
     "output_type": "execute_result"
    },
    {
     "data": {
      "image/png": "[encoded data removed]",
      "text/plain": [
       "<Figure size 576x360 with 1 Axes>"
      ]
     },
     "metadata": {
      "needs_background": "light"
     },
     "output_type": "display_data"
    }
   ],
   "source": [
    "fig, ax = plt.subplots(figsize=(8,5)) \n",
    "sns.boxplot(y = 'price', x = 'bedrooms', data = listings_start, ax=ax)"
   ]
  },
  {
   "cell_type": "code",
   "execution_count": 119,
   "metadata": {},
   "outputs": [
    {
     "data": {
      "text/plain": [
       "<matplotlib.axes._subplots.AxesSubplot at 0x1dcd0c16fd0>"
      ]
     },
     "execution_count": 119,
     "metadata": {},
     "output_type": "execute_result"
    },
    {
     "data": {
      "image/png": "[encoded data removed]",
      "text/plain": [
       "<Figure size 576x576 with 2 Axes>"
      ]
     },
     "metadata": {
      "needs_background": "light"
     },
     "output_type": "display_data"
    }
   ],
   "source": [
    "# mean price by neighborhood and room type\n",
    "fig, ax = plt.subplots(figsize=(8,8))       \n",
    "sns.heatmap(listings_start.groupby(['neighbourhood', 'room_type']).price.mean().unstack(),annot=True, fmt=\".0f\", ax=ax)"
   ]
  },
  {
   "cell_type": "code",
   "execution_count": 120,
   "metadata": {},
   "outputs": [
    {
     "data": {
      "text/plain": [
       "<matplotlib.axes._subplots.AxesSubplot at 0x1dcd0bd40f0>"
      ]
     },
     "execution_count": 120,
     "metadata": {},
     "output_type": "execute_result"
    },
    {
     "data": {
      "image/png": "[encoded data removed]",
      "text/plain": [
       "<Figure size 576x576 with 2 Axes>"
      ]
     },
     "metadata": {
      "needs_background": "light"
     },
     "output_type": "display_data"
    }
   ],
   "source": [
    "# Mean price by neighborhood and bedrooms\n",
    "fig, ax = plt.subplots(figsize=(8,8))  \n",
    "sns.heatmap(listings_start.groupby(['neighbourhood', 'bedrooms']).price.mean().unstack(),annot=True, fmt=\".0f\", ax=ax)"
   ]
  },
  {
   "cell_type": "markdown",
   "metadata": {},
   "source": [
    "#### Question 2: Now that I know the range of prices. What's in my control?"
   ]
  },
  {
   "cell_type": "code",
   "execution_count": 121,
   "metadata": {},
   "outputs": [
    {
     "data": {
      "text/plain": [
       "<matplotlib.axes._subplots.AxesSubplot at 0x1dcd8d34ac8>"
      ]
     },
     "execution_count": 121,
     "metadata": {},
     "output_type": "execute_result"
    },
    {
     "data": {
      "image/png": "[encoded data removed]",
      "text/plain": [
       "<Figure size 216x360 with 1 Axes>"
      ]
     },
     "metadata": {
      "needs_background": "light"
     },
     "output_type": "display_data"
    }
   ],
   "source": [
    "# Most hosts arent doing a great job. You can maximize profits by being a superhost and booking more nights.\n",
    "# Not al ot of people are superhosts\n",
    "fig, ax = plt.subplots(figsize=(3,5))  \n",
    "sns.countplot(x=\"host_is_superhost\", data=listings_start, ax=ax)"
   ]
  },
  {
   "cell_type": "code",
   "execution_count": 122,
   "metadata": {},
   "outputs": [
    {
     "data": {
      "text/plain": [
       "<matplotlib.axes._subplots.AxesSubplot at 0x1dcd0766f98>"
      ]
     },
     "execution_count": 122,
     "metadata": {},
     "output_type": "execute_result"
    },
    {
     "data": {
      "image/png": "[encoded data removed]",
      "text/plain": [
       "<Figure size 360x216 with 1 Axes>"
      ]
     },
     "metadata": {
      "needs_background": "light"
     },
     "output_type": "display_data"
    }
   ],
   "source": [
    "# But the mean income for superhosts is higher\n",
    "fig, ax = plt.subplots(figsize=(5,3))  \n",
    "sns.barplot(x='price', y='host_is_superhost', data=listings_start)"
   ]
  },
  {
   "cell_type": "code",
   "execution_count": 123,
   "metadata": {},
   "outputs": [
    {
     "data": {
      "text/plain": [
       "<matplotlib.axes._subplots.AxesSubplot at 0x1dcd07e7f28>"
      ]
     },
     "execution_count": 123,
     "metadata": {},
     "output_type": "execute_result"
    },
    {
     "data": {
      "image/png": "[encoded data removed]",
      "text/plain": [
       "<Figure size 360x216 with 1 Axes>"
      ]
     },
     "metadata": {
      "needs_background": "light"
     },
     "output_type": "display_data"
    }
   ],
   "source": [
    "# And they get more reviews\n",
    "fig, ax = plt.subplots(figsize=(5,3))  \n",
    "sns.barplot(x='number_of_reviews', y='host_is_superhost', data=listings_start)"
   ]
  },
  {
   "cell_type": "markdown",
   "metadata": {},
   "source": [
    "#### Question 3: What about the relationship of price and ratings?"
   ]
  },
  {
   "cell_type": "code",
   "execution_count": 124,
   "metadata": {},
   "outputs": [
    {
     "data": {
      "text/html": [
       "<div>\n",
       "<style scoped>\n",
       "    .dataframe tbody tr th:only-of-type {\n",
       "        vertical-align: middle;\n",
       "    }\n",
       "\n",
       "    .dataframe tbody tr th {\n",
       "        vertical-align: top;\n",
       "    }\n",
       "\n",
       "    .dataframe thead th {\n",
       "        text-align: right;\n",
       "    }\n",
       "</style>\n",
       "<table border=\"1\" class=\"dataframe\">\n",
       "  <thead>\n",
       "    <tr style=\"text-align: right;\">\n",
       "      <th></th>\n",
       "      <th>price</th>\n",
       "    </tr>\n",
       "  </thead>\n",
       "  <tbody>\n",
       "    <tr>\n",
       "      <th>review_scores_location</th>\n",
       "      <td>0.193</td>\n",
       "    </tr>\n",
       "    <tr>\n",
       "      <th>review_scores_cleanliness</th>\n",
       "      <td>0.143</td>\n",
       "    </tr>\n",
       "    <tr>\n",
       "      <th>review_scores_rating</th>\n",
       "      <td>0.106</td>\n",
       "    </tr>\n",
       "    <tr>\n",
       "      <th>review_scores_accuracy</th>\n",
       "      <td>0.040</td>\n",
       "    </tr>\n",
       "    <tr>\n",
       "      <th>review_scores_value</th>\n",
       "      <td>0.012</td>\n",
       "    </tr>\n",
       "    <tr>\n",
       "      <th>review_scores_communication</th>\n",
       "      <td>0.005</td>\n",
       "    </tr>\n",
       "    <tr>\n",
       "      <th>review_scores_checkin</th>\n",
       "      <td>-0.006</td>\n",
       "    </tr>\n",
       "    <tr>\n",
       "      <th>number_of_reviews</th>\n",
       "      <td>-0.109</td>\n",
       "    </tr>\n",
       "    <tr>\n",
       "      <th>reviews_per_month</th>\n",
       "      <td>-0.159</td>\n",
       "    </tr>\n",
       "  </tbody>\n",
       "</table>\n",
       "</div>"
      ],
      "text/plain": [
       "                             price\n",
       "review_scores_location       0.193\n",
       "review_scores_cleanliness    0.143\n",
       "review_scores_rating         0.106\n",
       "review_scores_accuracy       0.040\n",
       "review_scores_value          0.012\n",
       "review_scores_communication  0.005\n",
       "review_scores_checkin       -0.006\n",
       "number_of_reviews           -0.109\n",
       "reviews_per_month           -0.159"
      ]
     },
     "execution_count": 124,
     "metadata": {},
     "output_type": "execute_result"
    }
   ],
   "source": [
    "# Cleanliness appears to be important for obtaining a higher price. Location isn't in your control and nothing else really matters.\n",
    "listing_cor = listings_price_ratings.corr()[['price']]\n",
    "best_predictors = list(listing_cor.sort_values(['price'], ascending = False).index)\n",
    "\n",
    "reviews_corr = listings_start[best_predictors].corr().iloc[0,1:]\n",
    "r_corr1 = pd.DataFrame(reviews_corr)\n",
    "r_corr1"
   ]
  },
  {
   "cell_type": "code",
   "execution_count": 125,
   "metadata": {},
   "outputs": [
    {
     "data": {
      "text/html": [
       "<div>\n",
       "<style scoped>\n",
       "    .dataframe tbody tr th:only-of-type {\n",
       "        vertical-align: middle;\n",
       "    }\n",
       "\n",
       "    .dataframe tbody tr th {\n",
       "        vertical-align: top;\n",
       "    }\n",
       "\n",
       "    .dataframe thead th {\n",
       "        text-align: right;\n",
       "    }\n",
       "</style>\n",
       "<table border=\"1\" class=\"dataframe\">\n",
       "  <thead>\n",
       "    <tr style=\"text-align: right;\">\n",
       "      <th></th>\n",
       "      <th>review_scores_rating</th>\n",
       "    </tr>\n",
       "  </thead>\n",
       "  <tbody>\n",
       "    <tr>\n",
       "      <th>review_scores_value</th>\n",
       "      <td>0.786</td>\n",
       "    </tr>\n",
       "    <tr>\n",
       "      <th>review_scores_cleanliness</th>\n",
       "      <td>0.754</td>\n",
       "    </tr>\n",
       "    <tr>\n",
       "      <th>review_scores_accuracy</th>\n",
       "      <td>0.702</td>\n",
       "    </tr>\n",
       "    <tr>\n",
       "      <th>review_scores_communication</th>\n",
       "      <td>0.602</td>\n",
       "    </tr>\n",
       "    <tr>\n",
       "      <th>review_scores_checkin</th>\n",
       "      <td>0.582</td>\n",
       "    </tr>\n",
       "    <tr>\n",
       "      <th>review_scores_location</th>\n",
       "      <td>0.455</td>\n",
       "    </tr>\n",
       "    <tr>\n",
       "      <th>reviews_per_month</th>\n",
       "      <td>0.081</td>\n",
       "    </tr>\n",
       "    <tr>\n",
       "      <th>number_of_reviews</th>\n",
       "      <td>0.024</td>\n",
       "    </tr>\n",
       "  </tbody>\n",
       "</table>\n",
       "</div>"
      ],
      "text/plain": [
       "                             review_scores_rating\n",
       "review_scores_value                         0.786\n",
       "review_scores_cleanliness                   0.754\n",
       "review_scores_accuracy                      0.702\n",
       "review_scores_communication                 0.602\n",
       "review_scores_checkin                       0.582\n",
       "review_scores_location                      0.455\n",
       "reviews_per_month                           0.081\n",
       "number_of_reviews                           0.024"
      ]
     },
     "execution_count": 125,
     "metadata": {},
     "output_type": "execute_result"
    }
   ],
   "source": [
    "# Look at how review components are intercorrelated\n",
    "listing_cor = listings_ratings.corr()[['review_scores_rating']]\n",
    "best_predictors = list(listing_cor.sort_values(['review_scores_rating'], ascending = False).index)\n",
    "\n",
    "ratings_corr = listings_start[best_predictors].corr().iloc[0,1:]\n",
    "r_corr2 = pd.DataFrame(ratings_corr)\n",
    "r_corr2"
   ]
  },
  {
   "cell_type": "markdown",
   "metadata": {},
   "source": [
    "### Modelling\n",
    "\n",
    "Modelling was done for understanding but the graphs and results weren't used in the blog post."
   ]
  },
  {
   "cell_type": "code",
   "execution_count": 126,
   "metadata": {},
   "outputs": [],
   "source": [
    "# Drop 4 outliers to improve modelling\n",
    "listings_model = listings_start.drop(listings_start[listings_start.price > 800].index)"
   ]
  },
  {
   "cell_type": "code",
   "execution_count": 127,
   "metadata": {},
   "outputs": [],
   "source": [
    "# We use the numpy fuction log1p which  applies log(1+x) to all elements of the column\n",
    "# Improves modelling but not great for interpretation\n",
    "listings_model.price = np.log1p(listings_model.price)"
   ]
  },
  {
   "cell_type": "code",
   "execution_count": 128,
   "metadata": {},
   "outputs": [],
   "source": [
    "# Standardize numerical columns\n",
    "scaler = StandardScaler()\n",
    "num_cols = listings_model.select_dtypes(include=['int','float']).columns\n",
    "\n",
    "listings_model[num_cols] = scaler.fit_transform(listings_model[num_cols])"
   ]
  },
  {
   "cell_type": "code",
   "execution_count": 129,
   "metadata": {},
   "outputs": [
    {
     "name": "stdout",
     "output_type": "stream",
     "text": [
      "(2730, 73)\n"
     ]
    }
   ],
   "source": [
    "# one-hot encode\n",
    "listings_onehot = pd.get_dummies(listings_model)\n",
    "print(listings_onehot.shape)"
   ]
  },
  {
   "cell_type": "code",
   "execution_count": 130,
   "metadata": {},
   "outputs": [
    {
     "name": "stdout",
     "output_type": "stream",
     "text": [
      "Ridge: 0.587420 (0.060413)\n",
      "RF: 0.592206 (0.078901)\n",
      "GBM: 0.626353 (0.077608)\n",
      "XGBoost: 0.625297 (0.073979)\n"
     ]
    },
    {
     "data": {
      "image/png": "[encoded data removed]",
      "text/plain": [
       "<Figure size 576x288 with 1 Axes>"
      ]
     },
     "metadata": {
      "needs_background": "light"
     },
     "output_type": "display_data"
    }
   ],
   "source": [
    "X = listings_onehot.drop(['price'], axis = 1)\n",
    "Y = listings_onehot['price']\n",
    "\n",
    "# Comparing several starter models with r^2\n",
    "models = []\n",
    "models.append(('Ridge', Ridge()))\n",
    "models.append(('RF', RandomForestRegressor()))\n",
    "models.append(('GBM', GradientBoostingRegressor()))\n",
    "models.append(('XGBoost', XGBRegressor()))\n",
    "\n",
    "results = []\n",
    "names = []\n",
    "for name, model in models:\n",
    "    kfold = KFold(n_splits=5, random_state=7)\n",
    "    cv_results = cross_val_score(model, X, Y, cv=kfold, scoring='r2')\n",
    "    results.append(cv_results)\n",
    "    names.append(name)\n",
    "    msg = \"%s: %f (%f)\" % (name, cv_results.mean(), cv_results.std())\n",
    "    print(msg)\n",
    "# Compare Algorithms\n",
    "fig = plt.figure(figsize=(8, 4))\n",
    "ax = fig.add_subplot(111)\n",
    "plt.boxplot(results)\n",
    "ax.set_xticklabels(names)\n",
    "plt.title('Inital Algorithm Comparison - R^2', fontsize=13)\n",
    "plt.ylabel('R^2', fontsize=13)\n",
    "plt.xlabel('Initial Models', fontsize=13)\n",
    "plt.show()"
   ]
  },
  {
   "cell_type": "code",
   "execution_count": 131,
   "metadata": {},
   "outputs": [
    {
     "data": {
      "image/png": "[encoded data removed]",
      "text/plain": [
       "<Figure size 432x288 with 1 Axes>"
      ]
     },
     "metadata": {
      "needs_background": "light"
     },
     "output_type": "display_data"
    }
   ],
   "source": [
    "# Plot feature importance\n",
    "model = XGBRegressor()\n",
    "model.fit(X, Y)\n",
    "\n",
    "plot_importance(model, max_num_features = 10)\n",
    "plt.show()"
   ]
  },
  {
   "cell_type": "code",
   "execution_count": 132,
   "metadata": {},
   "outputs": [
    {
     "data": {
      "image/png": "[encoded data removed]",
      "text/plain": [
       "<Figure size 432x288 with 1 Axes>"
      ]
     },
     "metadata": {
      "needs_background": "light"
     },
     "output_type": "display_data"
    }
   ],
   "source": [
    "# Scatter Plot of predicted vs actual house prices\n",
    "preds = model.predict(X)\n",
    "x = preds\n",
    "y = Y\n",
    "lineStart = preds.min() \n",
    "lineEnd = preds.max()  \n",
    "\n",
    "plt.figure()\n",
    "plt.scatter(x, y, color = 'k', alpha=0.5)\n",
    "plt.plot([lineStart, lineEnd], [lineStart, lineEnd], 'k-', color = 'r')\n",
    "plt.xlim(lineStart, lineEnd)\n",
    "plt.ylim(lineStart, lineEnd*1.25)\n",
    "plt.show()"
   ]
  }
 ],
 "metadata": {
  "kernelspec": {
   "display_name": "Python 3",
   "language": "python",
   "name": "python3"
  },
  "language_info": {
   "codemirror_mode": {
    "name": "ipython",
    "version": 3
   },
   "file_extension": ".py",
   "mimetype": "text/x-python",
   "name": "python",
   "nbconvert_exporter": "python",
   "pygments_lexer": "ipython3",
   "version": "3.7.2rc1"
  }
 },
 "nbformat": 4,
 "nbformat_minor": 2
}
